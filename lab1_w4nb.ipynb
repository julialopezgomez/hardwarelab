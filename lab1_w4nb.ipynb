{
 "cells": [
  {
   "cell_type": "code",
   "execution_count": 1,
   "metadata": {},
   "outputs": [
    {
     "data": {
      "text/plain": [
       "199.11000000000058"
      ]
     },
     "execution_count": 1,
     "metadata": {},
     "output_type": "execute_result"
    }
   ],
   "source": [
    "from motor_control.AROMotorControl import AROMotorControl\n",
    "mc = AROMotorControl()\n",
    "mc.readPosition(motorid=2)"
   ]
  },
  {
   "cell_type": "code",
   "execution_count": 2,
   "metadata": {},
   "outputs": [
    {
     "name": "stdout",
     "output_type": "stream",
     "text": [
      "motors stopped!\n"
     ]
    }
   ],
   "source": [
    "from template import run_until\n",
    "dt = 0.005\n",
    "# Calculate how many iterations the motor should run \n",
    "# based on a 2-second duration and the time step.\n",
    "N = int(2. / dt) \n",
    "try:\n",
    "    # runs motor1 at 0.02 torque for 2 seconds\n",
    "    run_until(mc.applyTorqueToMotor, N=N, dt=0.005, motorid=1, torque=0.02)\n",
    "except KeyboardInterrupt:\n",
    "    print(\"KeyboardInterrupt received, stopping motors...\")\n",
    "except Exception as e:\n",
    "    print(f\"an error occurred: {e}\")\n",
    "finally:\n",
    "    mc.applyTorqueToMotor(1, 0) # stop the motor\n",
    "    mc.applyTorqueToMotor(2, 0)\n",
    "    # applyTorqueToMotor takes the arguments:\n",
    "    # motorid: the motor to apply the torque to\n",
    "    # torque: the torque to apply to the motor\n",
    "    print(\"motors stopped!\")"
   ]
  },
  {
   "cell_type": "code",
   "execution_count": 3,
   "metadata": {},
   "outputs": [
    {
     "name": "stdout",
     "output_type": "stream",
     "text": [
      "motors stopped!\n"
     ]
    },
    {
     "data": {
      "image/png": "[encoded data removed]",
      "text/plain": [
       "<Figure size 720x360 with 1 Axes>"
      ]
     },
     "metadata": {
      "needs_background": "light"
     },
     "output_type": "display_data"
    }
   ],
   "source": [
    "import matplotlib.pyplot as plt\n",
    "anglevalues =[]\n",
    "def store_values_and_apply_torques(motorid, torque):\n",
    "    global anglevalues\n",
    "    mc.applyTorqueToMotor(motorid=motorid, torque=torque)\n",
    "    anglevalues.append(mc.readPosition(motorid=motorid))\n",
    "\n",
    "try:\n",
    "    run_until(store_values_and_apply_torques, N=N, dt=0.005, motorid=2, torque=0.02)\n",
    "except KeyboardInterrupt:\n",
    "    print(\"KeyboardInterrupt received, stopping motors...\")\n",
    "except Exception as e:\n",
    "    print(f\"an error occurred: {e}\")\n",
    "finally:\n",
    "    mc.applyTorqueToMotor(1, 0)\n",
    "    mc.applyTorqueToMotor(2, 0)\n",
    "    print(\"motors stopped!\")\n",
    "\n",
    "\n",
    "time_values = [i * dt for i in range(len(anglevalues))]\n",
    "\n",
    "# Plotting the angle values\n",
    "plt.figure(figsize=(10, 5))\n",
    "plt.plot(time_values, anglevalues, marker='o', linestyle='-')\n",
    "plt.title('Motor Angle Values Over Time')\n",
    "plt.xlabel('Time (s)')\n",
    "plt.ylabel('Angle Values (% 2Pi)')\n",
    "plt.grid()\n",
    "plt.show()"
   ]
  },
  {
   "cell_type": "code",
   "execution_count": 4,
   "metadata": {},
   "outputs": [],
   "source": [
    "def clip(output):\n",
    "    \"\"\"This function clips the output to a range of -0.1 to -0.02 and 0.02 to 0.1\n",
    "    this is to ensure that, if there is a lot of friction, a minimal signal is sent\n",
    "    when the error is not 0 but small, as the motors tend not ro move at all\n",
    "    before 0.02 nM of torque is applied.\n",
    "    \"\"\"\n",
    "    outabs = abs(output)\n",
    "    if outabs < 1e-4:\n",
    "        return 0\n",
    "    clipped = max(min(outabs, 0.1), 0.02)\n",
    "    return clipped if output > 0 else -clipped\n",
    "\n",
    "class PController:\n",
    "    def __init__(self, Kp, Kd):\n",
    "        self.Kp = Kp\n",
    "        self.Kd = Kd\n",
    "        self.elapsed = 0\n",
    "        self.prev_error = 0\n",
    "\n",
    "    def reset(self):\n",
    "        self.elapsed = 0\n",
    "\n",
    "    def shortest_path_error(self, target, current):\n",
    "        # difference between target and current\n",
    "        # you sum 180 to the difference and then take the modulo 360 to get the shortest path\n",
    "        # then you subtract 180 to get the difference between the target and current\n",
    "        diff = ( target - current + 180 ) % 360 - 180 \n",
    "        # e.g. target = 360, current = 0, diff = (360 - 0 + 180) % 360 - 180 = 0\n",
    "        # e.g. target = 180, current = 90, diff = (180 - 90 + 180) % 360 - 180 = -90 -180 = 90\n",
    "        # e.g. target = 90, current = 180, diff = (90 - 180 + 180) % 360 - 180 = 90 - 180 = -90\n",
    "        # e.g. target = 0, current = 360, diff = (0 - 360 + 180) % 360 - 180 = -180 - 180 = -360\n",
    "            # in this case, the next line will sum 360 to the diff and return 0.\n",
    "        \n",
    "        if diff < -180:\n",
    "            diff = diff + 360\n",
    "        if (current + diff) % 360 == target:\n",
    "            # if the target is reached, return 0 (the difference)\n",
    "            return diff\n",
    "        else:\n",
    "            # if the target is not reached, return the negative difference\n",
    "            return -diff\n",
    "        \n",
    "    def compute(self, target, current, dt):\n",
    "        error = self.shortest_path_error(target, current)\n",
    "        d_error = (error - self.prev_error) if self.elapsed >= dt else 0\n",
    "        output = self.Kp*error  + self.Kd*d_error\n",
    "        # Kp is the proportional gain. \n",
    "        # It is a constant that determines how much the output will change based on\n",
    "        # the error. If Kp is too high, the system will be unstable, \n",
    "        # if it is too low, the system will be slow.\n",
    "        if (self.elapsed < 2*dt):\n",
    "            output = clip(output)\n",
    "        else:\n",
    "            output = clip(output)\n",
    "        self.elapsed += dt\n",
    "        return output"
   ]
  },
  {
   "cell_type": "code",
   "execution_count": 5,
   "metadata": {},
   "outputs": [
    {
     "data": {
      "image/png": "[encoded data removed]",
      "text/plain": [
       "<Figure size 720x360 with 1 Axes>"
      ]
     },
     "metadata": {
      "needs_background": "light"
     },
     "output_type": "display_data"
    },
    {
     "name": "stdout",
     "output_type": "stream",
     "text": [
      "motors stopped!\n"
     ]
    }
   ],
   "source": [
    "def goTo(controller, target, time = 1., dt = 0.005, motorid =1):\n",
    "    anglevalues =[]\n",
    "    N = (int)(time / dt) # number of iterations\n",
    "\n",
    "    def oneStep():\n",
    "        nonlocal anglevalues\n",
    "        currentAngle = mc.readPosition(motorid)\n",
    "        anglevalues+=[currentAngle]\n",
    "        tau = controller.compute(target,currentAngle, dt) # returns the torque necessary to reach the target\n",
    "\n",
    "        mc.applyTorqueToMotor(motorid,tau)\n",
    "\n",
    "    controller.reset()\n",
    "    run_until(oneStep, N=N, dt=dt)\n",
    "\n",
    "    mc.applyTorqueToMotor(1, 0)\n",
    "    mc.applyTorqueToMotor(2, 0)\n",
    "\n",
    "    time_values = [i * dt for i in range(len(anglevalues))]\n",
    "    # Plotting the angle values\n",
    "    plt.figure(figsize=(10, 5))\n",
    "    plt.plot(time_values, anglevalues, marker='o', linestyle='-')\n",
    "    plt.axhline(y=target, color='r', linestyle='--', label='Target Value') # Add horizontal line for target\n",
    "    plt.title('Motor Angle Values Over Time')\n",
    "    plt.xlabel('Time (s)')\n",
    "    plt.ylabel('Angle Values (% 2Pi)')\n",
    "    plt.grid()\n",
    "    plt.show()\n",
    "\n",
    "try:\n",
    "    pc = PController(0.00016, 0.000)\n",
    "    goTo(pc, 200, time = 1.5, motorid=2)\n",
    "except KeyboardInterrupt:\n",
    "    print(\"KeyboardInterrupt received, stopping motors...\")\n",
    "except Exception as e:\n",
    "    print(f\"an error occurred: {e}\")\n",
    "finally:\n",
    "    mc.applyTorqueToMotor(1, 0)\n",
    "    mc.applyTorqueToMotor(2, 0)\n",
    "    print(\"motors stopped!\")"
   ]
  },
  {
   "cell_type": "code",
   "execution_count": 6,
   "metadata": {},
   "outputs": [
    {
     "name": "stdout",
     "output_type": "stream",
     "text": [
      "199.23999999999978\n"
     ]
    }
   ],
   "source": [
    "print(mc.readPosition(2))"
   ]
  },
  {
   "cell_type": "code",
   "execution_count": 9,
   "metadata": {},
   "outputs": [],
   "source": [
    "\"\"\"Now, write a 30s control loop that does the following: + Motor 1 is configured to track the position\n",
    "of motor 2 + Motor 2 is configured to track the position of motor 1\n",
    "Manually mess around with the motors while the loop is running and check that things behave as\n",
    "you expect. A similar system is implemented in some of the recent cars where the steering wheel and\n",
    "the wheels are no longer mechanically connected (see https://en.wikipedia.org/wiki/Steer-by-wire )\"\"\"\n",
    "dt = 0.005\n",
    "N = (int)(30. / dt) # number of iterations\n",
    "pc1 = PController(0.00016, 0.000)\n",
    "pc2 = PController(0.00016, 0.000)\n",
    "def controlLoop():\n",
    "\n",
    "    def oneStep():\n",
    "        angle1 = mc.readPosition(1)\n",
    "        angle2 = mc.readPosition(2)\n",
    "        tau1 = pc1.compute(angle2, angle1, dt)\n",
    "        tau2 = pc2.compute(angle1, angle2, dt)\n",
    "        mc.applyTorqueToMotor(1, tau1)\n",
    "        mc.applyTorqueToMotor(2, tau2)\n",
    "    run_until(oneStep, N=N, dt=dt)\n",
    "\n",
    "    mc.applyTorqueToMotor(1, 0)\n",
    "    mc.applyTorqueToMotor(2, 0)\n",
    "    \n",
    "\n",
    "controlLoop()"
   ]
  },
  {
   "cell_type": "code",
   "execution_count": 10,
   "metadata": {},
   "outputs": [
    {
     "data": {
      "text/plain": [
       "(28, 0, 0, 147)"
      ]
     },
     "execution_count": 10,
     "metadata": {},
     "output_type": "execute_result"
    }
   ],
   "source": [
    "mc.applyTorqueToMotor(1, 0)\n",
    "mc.applyTorqueToMotor(2, 0)\n"
   ]
  }
 ],
 "metadata": {
  "kernelspec": {
   "display_name": "Python 3",
   "language": "python",
   "name": "python3"
  },
  "language_info": {
   "codemirror_mode": {
    "name": "ipython",
    "version": 3
   },
   "file_extension": ".py",
   "mimetype": "text/x-python",
   "name": "python",
   "nbconvert_exporter": "python",
   "pygments_lexer": "ipython3",
   "version": "3.10.12"
  }
 },
 "nbformat": 4,
 "nbformat_minor": 2
}
