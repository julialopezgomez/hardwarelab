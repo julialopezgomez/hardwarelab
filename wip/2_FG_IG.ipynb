{
 "cells": [
  {
   "cell_type": "markdown",
   "id": "982dcbf3",
   "metadata": {},
   "source": [
    "# Lab 2: forward and inverse geometry: writing with a pen\n",
    "\n",
    "In this second lab, you are going to accomplish two different tasks: first, you are going to write a sentence by manually controlling the robot end effector, and if your implementation of forward geometry is correct, you will be able to reproduce what you wrote on your computer. \n",
    "\n",
    "Then, you will use inverse kinematics to command the robot to draw a circle \n",
    "\n",
    "**warning** : you will need the PD controller written in the previous lab to continue with this one. If you are using notebooks, you should extract the code either manually or using \"Save as...\" to create a python file you will be able to import\n",
    "\n",
    "\n",
    "## Setting zero positions\n",
    "First of all, we will need to properly initialise the robot. Follow the steps below to set the zero position for each motor. For more information, have a look at the description of setZero in [AROMotorControlAPI.md](./AROMotorControlAPI.md) file\n",
    "\n",
    "- Step 1: Rotate the motors to the desired zero position, and put the aligner on the links to lock them in place.\n",
    "- Step 2: call setZero(motor_id) on each motor.\n",
    "- Step 3: Turn off the power supply, and wait for at least 5 seconds.\n",
    "- Step 4: Turn the power supply back on, and wait for at least 5 seconds.\n",
    "- Step 5: Remove the aligner\n",
    "\n",
    "This zero position will be saved in motors' RAMs, and you will not have to recalibrate until you keep the power supply on.\n"
   ]
  },
  {
   "cell_type": "code",
   "execution_count": 10,
   "id": "52557981",
   "metadata": {},
   "outputs": [
    {
     "name": "stdout",
     "output_type": "stream",
     "text": [
      "motor 1 has been reset. offset: 4294607111. restart required.\n",
      "motor 2 has been reset. offset: 4294940986. restart required.\n"
     ]
    },
    {
     "data": {
      "text/plain": [
       "True"
      ]
     },
     "execution_count": 10,
     "metadata": {},
     "output_type": "execute_result"
    }
   ],
   "source": [
    "from motor_control.AROMotorControl import AROMotorControl\n",
    "mc = AROMotorControl()\n",
    "mc.setZero(1)\n",
    "mc.setZero(2)"
   ]
  },
  {
   "cell_type": "markdown",
   "id": "cabbe2cc",
   "metadata": {},
   "source": [
    "\n",
    "## Forward Geometry\n",
    "The robot is a delta arm with the following characteristics:"
   ]
  },
  {
   "cell_type": "code",
   "execution_count": 11,
   "id": "43de2ece",
   "metadata": {},
   "outputs": [],
   "source": [
    "import numpy as np\n",
    "                      #        x,y\n",
    "#System size          #        /\\\n",
    "l1 = 0.06             #       /  \\\n",
    "l2 = 0.165            # l2-> /    \\<-r2\n",
    "r1 = 0.060            # l1 ->\\_dd_/<-r1\n",
    "r2 = 0.163            #  |   q1  q2\n",
    "d  = 0.150 / 2        # Y|\n",
    "                      #  |____>\n",
    "                      #    X"
   ]
  },
  {
   "cell_type": "markdown",
   "id": "fbba304e",
   "metadata": {},
   "source": [
    "Two of the joints are controlled by the motors, while the other two joints are unactuated. However, solving the forward geometry analytically is doable with a bit of trigonometry. Finding the position of the passive joints is straightforward, and from these two positions you can find the position of the effector."
   ]
  },
  {
   "cell_type": "code",
   "execution_count": 35,
   "id": "6ab8df0f",
   "metadata": {},
   "outputs": [],
   "source": [
    "import numpy as np\n",
    "from math import sqrt, cos, sin\n",
    "\n",
    "def get_intersections(x0, y0, r0, x1, y1, r1):\n",
    "    # circle 1: (x0, y0), radius r0\n",
    "    # circle 2: (x1, y1), radius r1\n",
    "    d=sqrt((x1-x0)**2 + (y1-y0)**2)\n",
    "    # non intersecting\n",
    "    if d > r0 + r1 :\n",
    "        return None\n",
    "    # One circle within other\n",
    "    if d < abs(r0-r1):\n",
    "        return np.array([np.nan,np.nan])\n",
    "    # coincident circles\n",
    "    if d == 0 and r0 == r1:\n",
    "        return np.array([np.nan,np.nan])\n",
    "    else:\n",
    "        a=(r0**2-r1**2+d**2)/(2*d)\n",
    "        h=sqrt(r0**2-a**2)\n",
    "        x2=x0+a*(x1-x0)/d   \n",
    "        y2=y0+a*(y1-y0)/d   \n",
    "        x3=x2+h*(y1-y0)/d     \n",
    "        y3=y2-h*(x1-x0)/d \n",
    "        x4=x2-h*(y1-y0)/d\n",
    "        y4=y2+h*(x1-x0)/d\n",
    "        return (x3, y3, x4, y4)\n",
    "\n",
    "def fg(q1, q2, positive=True):\n",
    "    sign = 1 if positive else -1\n",
    "    x0 = -d + l1 * -sin(q1)\n",
    "    y0 =      l1 * cos(q1)\n",
    "    x1 =  d + r1 * -sin(q2)\n",
    "    y1 =      r1 * cos(q2)\n",
    "\n",
    "    (x3, y3, x4, y4) = get_intersections(x0, y0, l2, x1, y1, r2)\n",
    "    return np.array([x4, y4])"
   ]
  },
  {
   "cell_type": "markdown",
   "id": "4e6dd5f4",
   "metadata": {},
   "source": [
    "To test your forward geometry, write a 10-second long sequence that will read the encoders, apply forward geometry to store the positions of the effectors, and then plot them."
   ]
  },
  {
   "cell_type": "code",
   "execution_count": 22,
   "id": "21699748",
   "metadata": {},
   "outputs": [],
   "source": [
    "import matplotlib.pyplot as plt\n",
    "import time\n",
    "\n",
    "def read_fg_loop(mc, T=10e3):\n",
    "    xs, ys = [], []\n",
    "    t = time.perf_counter()\n",
    "    N=int(T)\n",
    "    dt = 1. / 1e3\n",
    "    wait = 1. / 1e4\n",
    "    for i in range(N):\n",
    "        t +=dt\n",
    "        # TODO: Please note that angles q1 and q2 are in degrees, and \n",
    "        # need to be converted to radians before being used with trigonometric \n",
    "        # functions that expect radian arguments.\n",
    "        q1,q2 = mc.readPosition(1), mc.readPosition(2)\n",
    "        xy = fg(q1, q2) \n",
    "        xs.append(xy[0])\n",
    "        ys.append(xy[1])\n",
    "        while(time.perf_counter()-t<dt):\n",
    "            pass\n",
    "            time.sleep(wait)\n",
    "    plt.scatter(xs, ys, s=1)\n",
    "    plt.show()"
   ]
  },
  {
   "cell_type": "markdown",
   "id": "c74be079",
   "metadata": {},
   "source": [
    "Test your implementation within a try-catch block, as you would normally do. "
   ]
  },
  {
   "cell_type": "code",
   "execution_count": 33,
   "id": "4ef1e0d0",
   "metadata": {},
   "outputs": [
    {
     "data": {
      "image/png": "[encoded data removed]",
      "text/plain": [
       "<Figure size 432x288 with 1 Axes>"
      ]
     },
     "metadata": {
      "needs_background": "light"
     },
     "output_type": "display_data"
    },
    {
     "name": "stdout",
     "output_type": "stream",
     "text": [
      "motors stopped!\n"
     ]
    }
   ],
   "source": [
    "from motor_control.AROMotorControl import AROMotorControl\n",
    "try:\n",
    "    mc = AROMotorControl()\n",
    "    read_fg_loop(mc, T=3000)\n",
    "except KeyboardInterrupt:\n",
    "    print(\"KeyboardInterrupt received, stopping motors...\")\n",
    "except Exception as e:\n",
    "    print(f\"an error occurred: {e}\")\n",
    "finally:\n",
    "    mc.applyCurrentToMotor(1, 0)\n",
    "    mc.applyCurrentToMotor(2, 0)\n",
    "    print(\"motors stopped!\")"
   ]
  },
  {
   "cell_type": "markdown",
   "id": "75bbebd2",
   "metadata": {},
   "source": [
    "## Inverse geometry\n",
    "\n",
    "Now write the IG function that will compute the inverse geometry of the robot. Use it to command the robot to draw a circle on the board\n"
   ]
  },
  {
   "cell_type": "code",
   "execution_count": 6,
   "id": "6ffe3565",
   "metadata": {},
   "outputs": [],
   "source": [
    "def ig(xy):\n",
    "    '''Computes forward geometry'''\n",
    "    return np.zeros(2)\n",
    "\n",
    "def ik_serial(x,y, positive=True):\n",
    "    sign = 1 if positive else -1\n",
    "    l12=l1*l1\n",
    "    l22=l2*l2\n",
    "    x2=x*x\n",
    "    y2=y*y\n",
    "    q2 = sign * acos( (x2+y2-l12-l22) / (2*l1*l2) )\n",
    "    q1 = atan2( y , x ) - atan2((l2 * sin(q2)) , (l1 + l2*(cos(q2))))\n",
    "    return (q1,q2)\n",
    "\n",
    "def ik_delta(xy):\n",
    "    x = xy[0]\n",
    "    y = xy[1]\n",
    "    q1,_ = ik_serial(x-d,y,True)\n",
    "    q0,_ = ik_serial(x+d,y,False)\n",
    "    return np.array([q0,q1])"
   ]
  }
 ],
 "metadata": {
  "kernelspec": {
   "display_name": "Python 3 (ipykernel)",
   "language": "python",
   "name": "python3"
  },
  "language_info": {
   "codemirror_mode": {
    "name": "ipython",
    "version": 3
   },
   "file_extension": ".py",
   "mimetype": "text/x-python",
   "name": "python",
   "nbconvert_exporter": "python",
   "pygments_lexer": "ipython3",
   "version": "3.10.12"
  }
 },
 "nbformat": 4,
 "nbformat_minor": 5
}
